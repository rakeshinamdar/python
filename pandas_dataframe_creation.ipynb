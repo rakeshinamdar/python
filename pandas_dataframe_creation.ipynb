{
 "cells": [
  {
   "cell_type": "code",
   "execution_count": 24,
   "metadata": {},
   "outputs": [],
   "source": [
    "# three ways of creating a dataframe\n",
    "# 1. appending rows by adding dictionaries\n",
    "# 2. appending columns with list of values\n",
    "# 3. appending rows to an empty dataframe on an existing index"
   ]
  },
  {
   "cell_type": "code",
   "execution_count": null,
   "metadata": {},
   "outputs": [],
   "source": [
    "import pandas as pd"
   ]
  },
  {
   "cell_type": "code",
   "execution_count": 18,
   "metadata": {},
   "outputs": [],
   "source": [
    "# create an empty pandas dataframe with column names\n",
    "column_names = [\"day\", \"temperature\", \"windspeed\", \"event\"]\n",
    "df = pd.DataFrame(columns = column_names)"
   ]
  },
  {
   "cell_type": "code",
   "execution_count": 19,
   "metadata": {},
   "outputs": [
    {
     "name": "stdout",
     "output_type": "stream",
     "text": [
      "(0, 4)\n",
      "Empty DataFrame\n",
      "Columns: [day, temperature, windspeed, event]\n",
      "Index: []\n"
     ]
    }
   ],
   "source": [
    "# print the dimensions and dataframe\n",
    "print(df.shape)\n",
    "print(df.head())"
   ]
  },
  {
   "cell_type": "code",
   "execution_count": 20,
   "metadata": {},
   "outputs": [],
   "source": [
    "# append rows into empty dataframe by adding dictionaries\n",
    "df = df.append({'day':'1/1/2017','temperature':32,'windspeed':6,'event':'rain'},ignore_index=True)\n",
    "df = df.append({'day':'1/2/2017','temperature':35,'windspeed':7,'event':'sunny'},ignore_index=True)\n",
    "df = df.append({'day':'1/3/2017','temperature':28,'windspeed':2,'event':'snow'},ignore_index=True)\n",
    "df = df.append({'day':'1/4/2017','temperature':24,'windspeed':7,'event':'snow'},ignore_index=True)\n",
    "df = df.append({'day':'1/5/2017','temperature':32,'windspeed':4,'event':'rain'},ignore_index=True)\n",
    "df = df.append({'day':'1/6/2017','temperature':31,'windspeed':2,'event':'sunny'},ignore_index=True)"
   ]
  },
  {
   "cell_type": "code",
   "execution_count": 23,
   "metadata": {},
   "outputs": [],
   "source": [
    "# saving the file\n",
    "df.to_csv('weather.csv',index=False)"
   ]
  },
  {
   "cell_type": "code",
   "execution_count": 5,
   "metadata": {},
   "outputs": [
    {
     "name": "stdout",
     "output_type": "stream",
     "text": [
      "(6, 4)\n",
      "        day temperature windspeed  event\n",
      "0  1/1/2017          32         6   rain\n",
      "1  1/2/2017          35         7  sunny\n",
      "2  1/3/2017          28         2   snow\n",
      "3  1/4/2017          24         7   snow\n",
      "4  1/5/2017          32         4   rain\n"
     ]
    }
   ],
   "source": [
    "# print the dimensions and dataframe\n",
    "print(df.shape)\n",
    "print(df.head())"
   ]
  },
  {
   "cell_type": "code",
   "execution_count": 6,
   "metadata": {},
   "outputs": [],
   "source": [
    "# create an empty pandas dataframe with column names\n",
    "column_names = [\"day\", \"temperature\", \"windspeed\", \"event\"]\n",
    "df = pd.DataFrame(columns = column_names)"
   ]
  },
  {
   "cell_type": "code",
   "execution_count": 7,
   "metadata": {},
   "outputs": [
    {
     "name": "stdout",
     "output_type": "stream",
     "text": [
      "(0, 4)\n",
      "Empty DataFrame\n",
      "Columns: [day, temperature, windspeed, event]\n",
      "Index: []\n"
     ]
    }
   ],
   "source": [
    "# print the dimensions and dataframe\n",
    "print(df.shape)\n",
    "print(df.head())"
   ]
  },
  {
   "cell_type": "code",
   "execution_count": 8,
   "metadata": {},
   "outputs": [],
   "source": [
    "df['day'] = ['1/1/2017','1/2/2017','1/3/2017','1/4/2017','1/5/2017']\n",
    "df['temperature'] = [32,35,28,24,32]\n",
    "df['windspeed'] = [6,7,2,7,4]\n",
    "df['event'] = ['rain','sunny','snow','snow','rain']"
   ]
  },
  {
   "cell_type": "code",
   "execution_count": 9,
   "metadata": {},
   "outputs": [
    {
     "name": "stdout",
     "output_type": "stream",
     "text": [
      "(5, 4)\n",
      "        day  temperature  windspeed  event\n",
      "0  1/1/2017           32          6   rain\n",
      "1  1/2/2017           35          7  sunny\n",
      "2  1/3/2017           28          2   snow\n",
      "3  1/4/2017           24          7   snow\n",
      "4  1/5/2017           32          4   rain\n"
     ]
    }
   ],
   "source": [
    "# print the dimensions and dataframe\n",
    "print(df.shape)\n",
    "print(df.head())"
   ]
  },
  {
   "cell_type": "code",
   "execution_count": 13,
   "metadata": {},
   "outputs": [],
   "source": [
    "# create an empty pandas dataframe with column names\n",
    "column_names = [\"day\", \"temperature\", \"windspeed\", \"event\"]\n",
    "df = pd.DataFrame(columns = column_names,index=[1,2,3,4,5])"
   ]
  },
  {
   "cell_type": "code",
   "execution_count": 14,
   "metadata": {},
   "outputs": [
    {
     "name": "stdout",
     "output_type": "stream",
     "text": [
      "(5, 4)\n",
      "   day temperature windspeed event\n",
      "1  NaN         NaN       NaN   NaN\n",
      "2  NaN         NaN       NaN   NaN\n",
      "3  NaN         NaN       NaN   NaN\n",
      "4  NaN         NaN       NaN   NaN\n",
      "5  NaN         NaN       NaN   NaN\n"
     ]
    }
   ],
   "source": [
    "# print the dimensions and dataframe\n",
    "print(df.shape)\n",
    "print(df.head())"
   ]
  },
  {
   "cell_type": "code",
   "execution_count": 15,
   "metadata": {},
   "outputs": [],
   "source": [
    "df.loc[1] = ['1/1/2017',32,6,'rain'] \n",
    "df.loc[2] = ['1/2/2017',35,7,'sunny'] \n",
    "df.loc[3] = ['1/3/2017',28,2,'snow'] \n",
    "df.loc[4] = ['1/4/2017',24,7,'snow']\n",
    "df.loc[5] = ['1/5/2017',32,4,'rain']"
   ]
  },
  {
   "cell_type": "code",
   "execution_count": 16,
   "metadata": {},
   "outputs": [
    {
     "name": "stdout",
     "output_type": "stream",
     "text": [
      "(5, 4)\n",
      "        day temperature windspeed  event\n",
      "1  1/1/2017          32         6   rain\n",
      "2  1/2/2017          35         7  sunny\n",
      "3  1/3/2017          28         2   snow\n",
      "4  1/4/2017          24         7   snow\n",
      "5  1/5/2017          32         4   rain\n"
     ]
    }
   ],
   "source": [
    "# print the dimensions and dataframe\n",
    "print(df.shape)\n",
    "print(df.head())"
   ]
  },
  {
   "cell_type": "code",
   "execution_count": null,
   "metadata": {},
   "outputs": [],
   "source": []
  }
 ],
 "metadata": {
  "kernelspec": {
   "display_name": "Python 3",
   "language": "python",
   "name": "python3"
  },
  "language_info": {
   "codemirror_mode": {
    "name": "ipython",
    "version": 3
   },
   "file_extension": ".py",
   "mimetype": "text/x-python",
   "name": "python",
   "nbconvert_exporter": "python",
   "pygments_lexer": "ipython3",
   "version": "3.7.4"
  }
 },
 "nbformat": 4,
 "nbformat_minor": 2
}
